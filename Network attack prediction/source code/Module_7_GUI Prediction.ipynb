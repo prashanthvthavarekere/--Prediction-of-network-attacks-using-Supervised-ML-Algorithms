{
 "cells": [
  {
   "cell_type": "code",
   "execution_count": 31,
   "metadata": {},
   "outputs": [],
   "source": [
    "from tkinter import *\n",
    "import numpy as np\n",
    "import pandas as pd"
   ]
  },
  {
   "cell_type": "code",
   "execution_count": 32,
   "metadata": {},
   "outputs": [],
   "source": [
    "df = pd.read_csv(\"dataset/finaltrain1.csv\")"
   ]
  },
  {
   "cell_type": "code",
   "execution_count": 33,
   "metadata": {},
   "outputs": [
    {
     "data": {
      "text/html": [
       "<div>\n",
       "<style scoped>\n",
       "    .dataframe tbody tr th:only-of-type {\n",
       "        vertical-align: middle;\n",
       "    }\n",
       "\n",
       "    .dataframe tbody tr th {\n",
       "        vertical-align: top;\n",
       "    }\n",
       "\n",
       "    .dataframe thead th {\n",
       "        text-align: right;\n",
       "    }\n",
       "</style>\n",
       "<table border=\"1\" class=\"dataframe\">\n",
       "  <thead>\n",
       "    <tr style=\"text-align: right;\">\n",
       "      <th></th>\n",
       "      <th>Unnamed: 0</th>\n",
       "      <th>count</th>\n",
       "      <th>diff_srv_rate</th>\n",
       "      <th>dst_bytes</th>\n",
       "      <th>dst_host_count</th>\n",
       "      <th>dst_host_diff_srv_rate</th>\n",
       "      <th>dst_host_same_src_port_rate</th>\n",
       "      <th>dst_host_srv_diff_host_rate</th>\n",
       "      <th>duration</th>\n",
       "      <th>hot</th>\n",
       "      <th>last_flag</th>\n",
       "      <th>logged_in</th>\n",
       "      <th>num_compromised</th>\n",
       "      <th>srv_count</th>\n",
       "      <th>srv_diff_host_rate</th>\n",
       "      <th>attack_class</th>\n",
       "    </tr>\n",
       "  </thead>\n",
       "  <tbody>\n",
       "    <tr>\n",
       "      <td>0</td>\n",
       "      <td>0</td>\n",
       "      <td>13</td>\n",
       "      <td>0.15</td>\n",
       "      <td>0</td>\n",
       "      <td>255</td>\n",
       "      <td>0.60</td>\n",
       "      <td>0.88</td>\n",
       "      <td>0.00</td>\n",
       "      <td>0</td>\n",
       "      <td>0</td>\n",
       "      <td>15</td>\n",
       "      <td>0</td>\n",
       "      <td>0</td>\n",
       "      <td>1</td>\n",
       "      <td>0.00</td>\n",
       "      <td>0</td>\n",
       "    </tr>\n",
       "    <tr>\n",
       "      <td>1</td>\n",
       "      <td>1</td>\n",
       "      <td>123</td>\n",
       "      <td>0.07</td>\n",
       "      <td>0</td>\n",
       "      <td>255</td>\n",
       "      <td>0.05</td>\n",
       "      <td>0.00</td>\n",
       "      <td>0.00</td>\n",
       "      <td>0</td>\n",
       "      <td>0</td>\n",
       "      <td>19</td>\n",
       "      <td>0</td>\n",
       "      <td>0</td>\n",
       "      <td>6</td>\n",
       "      <td>0.00</td>\n",
       "      <td>1</td>\n",
       "    </tr>\n",
       "    <tr>\n",
       "      <td>2</td>\n",
       "      <td>2</td>\n",
       "      <td>5</td>\n",
       "      <td>0.00</td>\n",
       "      <td>8153</td>\n",
       "      <td>30</td>\n",
       "      <td>0.00</td>\n",
       "      <td>0.03</td>\n",
       "      <td>0.04</td>\n",
       "      <td>0</td>\n",
       "      <td>0</td>\n",
       "      <td>21</td>\n",
       "      <td>1</td>\n",
       "      <td>0</td>\n",
       "      <td>5</td>\n",
       "      <td>0.00</td>\n",
       "      <td>0</td>\n",
       "    </tr>\n",
       "    <tr>\n",
       "      <td>3</td>\n",
       "      <td>3</td>\n",
       "      <td>30</td>\n",
       "      <td>0.00</td>\n",
       "      <td>420</td>\n",
       "      <td>255</td>\n",
       "      <td>0.00</td>\n",
       "      <td>0.00</td>\n",
       "      <td>0.00</td>\n",
       "      <td>0</td>\n",
       "      <td>0</td>\n",
       "      <td>21</td>\n",
       "      <td>1</td>\n",
       "      <td>0</td>\n",
       "      <td>32</td>\n",
       "      <td>0.09</td>\n",
       "      <td>0</td>\n",
       "    </tr>\n",
       "    <tr>\n",
       "      <td>4</td>\n",
       "      <td>4</td>\n",
       "      <td>121</td>\n",
       "      <td>0.06</td>\n",
       "      <td>0</td>\n",
       "      <td>255</td>\n",
       "      <td>0.07</td>\n",
       "      <td>0.00</td>\n",
       "      <td>0.00</td>\n",
       "      <td>0</td>\n",
       "      <td>0</td>\n",
       "      <td>21</td>\n",
       "      <td>0</td>\n",
       "      <td>0</td>\n",
       "      <td>19</td>\n",
       "      <td>0.00</td>\n",
       "      <td>1</td>\n",
       "    </tr>\n",
       "  </tbody>\n",
       "</table>\n",
       "</div>"
      ],
      "text/plain": [
       "   Unnamed: 0  count  diff_srv_rate  dst_bytes  dst_host_count  \\\n",
       "0           0     13           0.15          0             255   \n",
       "1           1    123           0.07          0             255   \n",
       "2           2      5           0.00       8153              30   \n",
       "3           3     30           0.00        420             255   \n",
       "4           4    121           0.06          0             255   \n",
       "\n",
       "   dst_host_diff_srv_rate  dst_host_same_src_port_rate  \\\n",
       "0                    0.60                         0.88   \n",
       "1                    0.05                         0.00   \n",
       "2                    0.00                         0.03   \n",
       "3                    0.00                         0.00   \n",
       "4                    0.07                         0.00   \n",
       "\n",
       "   dst_host_srv_diff_host_rate  duration  hot  last_flag  logged_in  \\\n",
       "0                         0.00         0    0         15          0   \n",
       "1                         0.00         0    0         19          0   \n",
       "2                         0.04         0    0         21          1   \n",
       "3                         0.00         0    0         21          1   \n",
       "4                         0.00         0    0         21          0   \n",
       "\n",
       "   num_compromised  srv_count  srv_diff_host_rate  attack_class  \n",
       "0                0          1                0.00             0  \n",
       "1                0          6                0.00             1  \n",
       "2                0          5                0.00             0  \n",
       "3                0         32                0.09             0  \n",
       "4                0         19                0.00             1  "
      ]
     },
     "execution_count": 33,
     "metadata": {},
     "output_type": "execute_result"
    }
   ],
   "source": [
    "df.head()"
   ]
  },
  {
   "cell_type": "code",
   "execution_count": 34,
   "metadata": {},
   "outputs": [
    {
     "data": {
      "text/plain": [
       "(1000, 16)"
      ]
     },
     "execution_count": 34,
     "metadata": {},
     "output_type": "execute_result"
    }
   ],
   "source": [
    "df.shape"
   ]
  },
  {
   "cell_type": "code",
   "execution_count": 35,
   "metadata": {},
   "outputs": [
    {
     "data": {
      "text/plain": [
       "Index(['count', 'diff_srv_rate', 'dst_bytes', 'dst_host_count',\n",
       "       'dst_host_diff_srv_rate', 'dst_host_same_src_port_rate',\n",
       "       'dst_host_srv_diff_host_rate', 'duration', 'hot', 'last_flag',\n",
       "       'logged_in', 'num_compromised', 'srv_count', 'srv_diff_host_rate',\n",
       "       'attack_class'],\n",
       "      dtype='object')"
      ]
     },
     "execution_count": 35,
     "metadata": {},
     "output_type": "execute_result"
    }
   ],
   "source": [
    "df.drop(columns=df.columns[:1], axis=1,inplace=True)\n",
    "df.columns"
   ]
  },
  {
   "cell_type": "code",
   "execution_count": 36,
   "metadata": {},
   "outputs": [
    {
     "name": "stdout",
     "output_type": "stream",
     "text": [
      "Minimum Count value: 1\n",
      "Maximun Count value: 511\n"
     ]
    }
   ],
   "source": [
    "print(\"Minimum Count value:\", df[\"count\"].min())\n",
    "print(\"Maximun Count value:\", df[\"count\"].max())"
   ]
  },
  {
   "cell_type": "code",
   "execution_count": 37,
   "metadata": {},
   "outputs": [
    {
     "name": "stdout",
     "output_type": "stream",
     "text": [
      "Minimum diff_srv_rate value: 0.0\n",
      "Maximun diff_srv_rate value: 1.0\n"
     ]
    }
   ],
   "source": [
    "print(\"Minimum diff_srv_rate value:\", df[\"diff_srv_rate\"].min())\n",
    "print(\"Maximun diff_srv_rate value:\", df[\"diff_srv_rate\"].max())"
   ]
  },
  {
   "cell_type": "code",
   "execution_count": 38,
   "metadata": {},
   "outputs": [
    {
     "name": "stdout",
     "output_type": "stream",
     "text": [
      "Minimum dst_bytes value: 0\n",
      "Maximun dst_bytes value: 148722\n"
     ]
    }
   ],
   "source": [
    "print(\"Minimum dst_bytes value:\", df[\"dst_bytes\"].min())\n",
    "print(\"Maximun dst_bytes value:\", df[\"dst_bytes\"].max())"
   ]
  },
  {
   "cell_type": "code",
   "execution_count": 39,
   "metadata": {},
   "outputs": [
    {
     "name": "stdout",
     "output_type": "stream",
     "text": [
      "Minimum dst_host_count value: 1\n",
      "Maximun dst_host_count value: 255\n"
     ]
    }
   ],
   "source": [
    "print(\"Minimum dst_host_count value:\", df[\"dst_host_count\"].min())\n",
    "print(\"Maximun dst_host_count value:\", df[\"dst_host_count\"].max())"
   ]
  },
  {
   "cell_type": "code",
   "execution_count": 40,
   "metadata": {},
   "outputs": [
    {
     "name": "stdout",
     "output_type": "stream",
     "text": [
      "Minimum dst_host_diff_srv_rate value: 0.0\n",
      "Maximun dst_host_diff_srv_rate value: 1.0\n"
     ]
    }
   ],
   "source": [
    "print(\"Minimum dst_host_diff_srv_rate value:\", df[\"dst_host_diff_srv_rate\"].min())\n",
    "print(\"Maximun dst_host_diff_srv_rate value:\", df[\"dst_host_diff_srv_rate\"].max())"
   ]
  },
  {
   "cell_type": "code",
   "execution_count": 41,
   "metadata": {},
   "outputs": [
    {
     "name": "stdout",
     "output_type": "stream",
     "text": [
      "Minimum dst_host_same_src_port_rate value: 0.0\n",
      "Maximun dst_host_same_src_port_rate value: 1.0\n"
     ]
    }
   ],
   "source": [
    "print(\"Minimum dst_host_same_src_port_rate value:\", df[\"dst_host_same_src_port_rate\"].min())\n",
    "print(\"Maximun dst_host_same_src_port_rate value:\", df[\"dst_host_same_src_port_rate\"].max())"
   ]
  },
  {
   "cell_type": "code",
   "execution_count": 42,
   "metadata": {},
   "outputs": [
    {
     "name": "stdout",
     "output_type": "stream",
     "text": [
      "Minimum dst_host_srv_diff_host_rate value: 0.0\n",
      "Maximun dst_host_srv_diff_host_rate value: 1.0\n"
     ]
    }
   ],
   "source": [
    "print(\"Minimum dst_host_srv_diff_host_rate value:\", df[\"dst_host_srv_diff_host_rate\"].min())\n",
    "print(\"Maximun dst_host_srv_diff_host_rate value:\", df[\"dst_host_srv_diff_host_rate\"].max())"
   ]
  },
  {
   "cell_type": "code",
   "execution_count": 43,
   "metadata": {},
   "outputs": [
    {
     "name": "stdout",
     "output_type": "stream",
     "text": [
      "Minimum duration value: 0\n",
      "Maximun duration value: 41285\n"
     ]
    }
   ],
   "source": [
    "print(\"Minimum duration value:\", df[\"duration\"].min())\n",
    "print(\"Maximun duration value:\", df[\"duration\"].max())"
   ]
  },
  {
   "cell_type": "code",
   "execution_count": 44,
   "metadata": {},
   "outputs": [
    {
     "name": "stdout",
     "output_type": "stream",
     "text": [
      "Minimum hot value: 0\n",
      "Maximun hot value: 30\n"
     ]
    }
   ],
   "source": [
    "print(\"Minimum hot value:\", df[\"hot\"].min())\n",
    "print(\"Maximun hot value:\", df[\"hot\"].max())"
   ]
  },
  {
   "cell_type": "code",
   "execution_count": 45,
   "metadata": {},
   "outputs": [
    {
     "name": "stdout",
     "output_type": "stream",
     "text": [
      "Minimum last_flag value: 2\n",
      "Maximun last_flag value: 21\n"
     ]
    }
   ],
   "source": [
    "print(\"Minimum last_flag value:\", df[\"last_flag\"].min())\n",
    "print(\"Maximun last_flag value:\", df[\"last_flag\"].max())\n",
    "#'last_flag',       'logged_in', 'num_compromised', 'srv_count', 'srv_diff_host_rate'"
   ]
  },
  {
   "cell_type": "code",
   "execution_count": 46,
   "metadata": {},
   "outputs": [
    {
     "name": "stdout",
     "output_type": "stream",
     "text": [
      "Minimum logged_in value: 0\n",
      "Maximun logged_in value: 1\n"
     ]
    }
   ],
   "source": [
    "print(\"Minimum logged_in value:\", df[\"logged_in\"].min())\n",
    "print(\"Maximun logged_in value:\", df[\"logged_in\"].max())"
   ]
  },
  {
   "cell_type": "code",
   "execution_count": 47,
   "metadata": {},
   "outputs": [
    {
     "name": "stdout",
     "output_type": "stream",
     "text": [
      "Minimum num_compromised value: 0\n",
      "Maximun num_compromised value: 19\n"
     ]
    }
   ],
   "source": [
    "print(\"Minimum num_compromised value:\", df[\"num_compromised\"].min())\n",
    "print(\"Maximun num_compromised value:\", df[\"num_compromised\"].max())"
   ]
  },
  {
   "cell_type": "code",
   "execution_count": 48,
   "metadata": {},
   "outputs": [
    {
     "name": "stdout",
     "output_type": "stream",
     "text": [
      "Minimum srv_count value: 1\n",
      "Maximun srv_count value: 511\n"
     ]
    }
   ],
   "source": [
    "print(\"Minimum srv_count value:\", df[\"srv_count\"].min())\n",
    "print(\"Maximun srv_count value:\", df[\"srv_count\"].max())"
   ]
  },
  {
   "cell_type": "code",
   "execution_count": 49,
   "metadata": {},
   "outputs": [
    {
     "name": "stdout",
     "output_type": "stream",
     "text": [
      "Minimum srv_diff_host_rate value: 0.0\n",
      "Maximun srv_diff_host_rate value: 1.0\n"
     ]
    }
   ],
   "source": [
    "print(\"Minimum srv_diff_host_rate value:\", df[\"srv_diff_host_rate\"].min())\n",
    "print(\"Maximun srv_diff_host_rate value:\", df[\"srv_diff_host_rate\"].max())"
   ]
  },
  {
   "cell_type": "code",
   "execution_count": 50,
   "metadata": {},
   "outputs": [],
   "source": [
    "\n",
    "count=[0,1]\n",
    "diff_srv_rate=[0,1]\n",
    "#dst_bytest=0 to 148722\n",
    "dst_host_count=[*range(1,256)]\n",
    "dst_host_diff_srv_rate=[0,1]\n",
    "dst_host_same_src_port_rate=[0,1]\n",
    "dst_host_srv_diff_host_rate=[0,1]\n",
    "#duration=  to 41285\n",
    "hot=[*range(0,31)]\n",
    "last_flag=[*range(2,22)]\n",
    "logged_in=[0,1]\n",
    "num_compromised=[*range(0,20)]\n",
    "srv_count=[*range(1,512)]\n",
    "srv_diff_host_rate=[0,1]\n",
    "\n"
   ]
  },
  {
   "cell_type": "code",
   "execution_count": 51,
   "metadata": {},
   "outputs": [],
   "source": [
    "# entries\n",
    "OPTIONS1 = sorted(count)\n",
    "OPTIONS2 = sorted(diff_srv_rate)\n",
    "#OPTIONS3 = sorted(chol)\n",
    "OPTIONS4 = sorted(dst_host_count)\n",
    "OPTIONS5 = sorted(dst_host_diff_srv_rate)\n",
    "OPTIONS6 = sorted(dst_host_same_src_port_rate)\n",
    "OPTIONS7 = sorted(dst_host_srv_diff_host_rate)\n",
    "#OPTIONS8 = sorted(oldpeak)\n",
    "OPTIONS9 = sorted(hot)\n",
    "OPTIONS10 = sorted(last_flag)\n",
    "OPTIONS11= sorted(logged_in)\n",
    "OPTIONS12= sorted(num_compromised)\n",
    "OPTIONS13= sorted(srv_count)\n",
    "OPTIONS14= sorted(srv_diff_host_rate)\n"
   ]
  },
  {
   "cell_type": "code",
   "execution_count": 52,
   "metadata": {},
   "outputs": [
    {
     "data": {
      "text/plain": [
       "array([0, 1, 0, 0, 1, 1, 1, 1, 1, 1, 1, 0, 1, 1, 1, 0, 1, 0, 0, 1, 1, 0,\n",
       "       0, 1, 0, 1, 0, 0, 0, 1, 1, 0, 1, 0, 0, 0, 1, 0, 1, 1, 1, 0, 0, 0,\n",
       "       1, 1, 0, 1, 1, 0, 1, 1, 0, 0, 0, 1, 1, 1, 0, 0, 1, 1, 0, 1, 0, 1,\n",
       "       1, 1, 1, 0, 1, 0, 0, 1, 0, 1, 0, 0, 1, 0, 1, 1, 1, 0, 1, 0, 1, 1,\n",
       "       0, 0, 0, 0, 1, 1, 0, 0, 0, 0, 1, 0, 0, 0, 0, 1, 0, 0, 0, 0, 0, 0,\n",
       "       0, 0, 0, 0, 1, 1, 0, 0, 0, 1, 1, 1, 0, 1, 0, 0, 0, 0, 0, 1, 1, 0,\n",
       "       0, 1, 1, 0, 0, 1, 1, 0, 1, 1, 0, 0, 0, 1, 0, 1, 1, 1, 0, 1, 1, 1,\n",
       "       0, 0, 1, 1, 1, 0, 0, 0, 0, 1, 1, 0, 0, 0, 0, 1, 0, 1, 1, 1, 1, 0,\n",
       "       1, 1, 1, 0, 0, 0, 0, 1, 1, 1, 1, 0, 0, 1, 0, 1, 1, 0, 0, 0, 0, 1,\n",
       "       0, 0, 1, 0, 0, 0, 0, 1, 0, 0, 1, 1, 1, 1, 0, 1, 1, 0, 0, 0, 0, 0,\n",
       "       1, 1, 1, 1, 0, 0, 1, 0, 0, 0, 0, 0, 1, 0, 1, 1, 1, 0, 0, 0, 1, 1,\n",
       "       1, 1, 0, 1, 1, 1, 0, 1, 0, 0, 1, 1, 1, 0, 0, 1, 0, 1, 0, 0, 1, 0,\n",
       "       0, 0, 0, 1, 1, 0, 1, 0, 0, 0, 0, 1, 1, 0, 0, 0, 1, 0, 0, 1, 0, 1,\n",
       "       1, 0, 1, 0, 1, 1, 0, 0, 0, 0, 1, 0, 1, 0, 1, 1, 1, 0, 1, 0, 0, 1,\n",
       "       0, 1, 0, 1, 1, 0, 1, 1, 1, 0, 1, 0, 1, 1, 1, 0, 1, 0, 0, 0, 0, 1,\n",
       "       1, 0, 0, 1, 0, 0, 0, 1, 1, 0, 1, 0, 0, 1, 0, 1, 0, 1, 1, 1, 0, 1,\n",
       "       0, 1, 0, 1, 0, 1, 0, 0, 0, 1, 0, 0, 1, 1, 0, 1, 1, 0, 0, 0, 1, 0,\n",
       "       1, 0, 0, 0, 1, 0, 1, 0, 1, 1, 0, 1, 0, 0, 0, 0, 0, 1, 1, 1, 1, 1,\n",
       "       1, 1, 0, 0, 1, 0, 0, 1, 0, 0, 0, 1, 1, 0, 1, 0, 0, 1, 0, 0, 1, 1,\n",
       "       1, 0, 1, 1, 1, 1, 0, 1, 0, 0, 1, 0, 1, 1, 0, 0, 0, 0, 0, 0, 0, 1,\n",
       "       0, 1, 1, 0, 0, 1, 1, 1, 0, 0, 0, 1, 1, 1, 0, 1, 0, 1, 1, 0, 0, 1,\n",
       "       0, 0, 1, 1, 1, 0, 0, 1, 0, 1, 0, 1, 0, 0, 1, 1, 0, 1, 1, 1, 0, 1,\n",
       "       0, 0, 1, 1, 0, 1, 0, 0, 0, 0, 1, 0, 0, 0, 0, 0, 0, 1, 0, 0, 0, 1,\n",
       "       1, 0, 1, 0, 0, 0, 0, 0, 0, 1, 1, 0, 0, 1, 0, 1, 0, 0, 0, 1, 0, 1,\n",
       "       1, 1, 1, 1, 0, 1, 0, 1, 0, 1, 0, 1, 1, 0, 0, 0, 0, 0, 1, 0, 1, 1,\n",
       "       1, 0, 1, 0, 0, 1, 1, 1, 1, 0, 1, 0, 0, 1, 1, 0, 1, 1, 0, 1, 1, 1,\n",
       "       1, 0, 0, 0, 1, 0, 0, 0, 1, 1, 0, 0, 0, 1, 0, 0, 1, 0, 1, 1, 0, 0,\n",
       "       1, 0, 1, 0, 1, 1, 0, 1, 1, 0, 1, 1, 1, 0, 1, 0, 1, 0, 0, 0, 1, 1,\n",
       "       0, 0, 1, 0, 1, 1, 0, 1, 1, 1, 1, 0, 1, 0, 1, 0, 0, 1, 0, 0, 0, 1,\n",
       "       0, 1, 0, 0, 1, 0, 1, 1, 1, 1, 0, 1, 0, 1, 0, 0, 0, 0, 0, 0, 1, 0,\n",
       "       1, 1, 0, 0, 1, 1, 1, 0, 0, 0, 1, 0, 1, 1, 0, 0, 0, 1, 1, 0, 0, 0,\n",
       "       0, 0, 0, 0, 1, 1, 1, 0, 0, 0, 1, 0, 1, 1, 0, 0, 0, 0, 0, 0, 1, 0,\n",
       "       1, 1, 0, 1, 1, 1, 0, 1, 1, 0, 1, 0, 1, 1, 0, 0, 0, 0, 0, 1, 1, 0,\n",
       "       0, 0, 0, 0, 0, 1, 1, 0, 0, 0, 1, 1, 0, 1, 1, 1, 0, 1, 0, 0, 0, 1,\n",
       "       0, 1, 1, 0, 1, 1, 1, 1, 1, 1, 1, 1, 1, 0, 1, 0, 1, 1, 0, 1, 1, 1,\n",
       "       1, 0, 0, 0, 1, 1, 1, 1, 0, 1, 1, 0, 0, 0, 1, 0, 1, 1, 0, 1, 0, 1,\n",
       "       1, 1, 1, 1, 0, 1, 0, 0, 0, 0, 0, 0, 0, 1, 1, 1, 0, 1, 0, 1, 0, 0,\n",
       "       1, 0, 0, 0, 1, 0, 0, 0, 1, 1, 0, 1, 0, 0, 1, 0, 0, 1, 0, 1, 0, 1,\n",
       "       0, 1, 0, 0, 0, 1, 0, 1, 0, 1, 1, 0, 1, 0, 1, 1, 1, 0, 1, 1, 0, 1,\n",
       "       1, 1, 0, 0, 1, 1, 0, 0, 0, 0, 0, 1, 1, 0, 1, 1, 1, 1, 1, 1, 0, 0,\n",
       "       1, 1, 1, 1, 0, 0, 1, 0, 0, 0, 1, 0, 1, 1, 0, 1, 1, 1, 1, 1, 0, 1,\n",
       "       0, 0, 1, 0, 1, 0, 1, 1, 1, 1, 1, 1, 1, 1, 1, 0, 1, 1, 0, 0, 1, 0,\n",
       "       1, 0, 1, 1, 1, 1, 1, 0, 0, 1, 0, 0, 0, 0, 0, 1, 1, 0, 0, 0, 0, 1,\n",
       "       1, 1, 1, 0, 1, 0, 0, 0, 0, 1, 0, 1, 1, 0, 0, 0, 1, 0, 1, 1, 1, 0,\n",
       "       0, 0, 0, 0, 1, 0, 1, 0, 0, 0, 0, 0, 0, 0, 0, 1, 0, 1, 0, 1, 1, 0,\n",
       "       1, 1, 1, 1, 0, 0, 1, 1, 0, 1], dtype=int64)"
      ]
     },
     "execution_count": 52,
     "metadata": {},
     "output_type": "execute_result"
    }
   ],
   "source": [
    "X= df.drop(labels='attack_class', axis=1)\n",
    "y=df[['attack_class']]\n",
    "\n",
    "\n",
    "np.ravel(y)"
   ]
  },
  {
   "cell_type": "code",
   "execution_count": 53,
   "metadata": {},
   "outputs": [
    {
     "data": {
      "text/html": [
       "<div>\n",
       "<style scoped>\n",
       "    .dataframe tbody tr th:only-of-type {\n",
       "        vertical-align: middle;\n",
       "    }\n",
       "\n",
       "    .dataframe tbody tr th {\n",
       "        vertical-align: top;\n",
       "    }\n",
       "\n",
       "    .dataframe thead th {\n",
       "        text-align: right;\n",
       "    }\n",
       "</style>\n",
       "<table border=\"1\" class=\"dataframe\">\n",
       "  <thead>\n",
       "    <tr style=\"text-align: right;\">\n",
       "      <th></th>\n",
       "      <th>count</th>\n",
       "      <th>diff_srv_rate</th>\n",
       "      <th>dst_bytes</th>\n",
       "      <th>dst_host_count</th>\n",
       "      <th>dst_host_diff_srv_rate</th>\n",
       "      <th>dst_host_same_src_port_rate</th>\n",
       "      <th>dst_host_srv_diff_host_rate</th>\n",
       "      <th>duration</th>\n",
       "      <th>hot</th>\n",
       "      <th>last_flag</th>\n",
       "      <th>logged_in</th>\n",
       "      <th>num_compromised</th>\n",
       "      <th>srv_count</th>\n",
       "      <th>srv_diff_host_rate</th>\n",
       "      <th>attack_class</th>\n",
       "    </tr>\n",
       "  </thead>\n",
       "  <tbody>\n",
       "    <tr>\n",
       "      <td>0</td>\n",
       "      <td>13</td>\n",
       "      <td>0.15</td>\n",
       "      <td>0</td>\n",
       "      <td>255</td>\n",
       "      <td>0.60</td>\n",
       "      <td>0.88</td>\n",
       "      <td>0.00</td>\n",
       "      <td>0</td>\n",
       "      <td>0</td>\n",
       "      <td>15</td>\n",
       "      <td>0</td>\n",
       "      <td>0</td>\n",
       "      <td>1</td>\n",
       "      <td>0.00</td>\n",
       "      <td>0</td>\n",
       "    </tr>\n",
       "    <tr>\n",
       "      <td>1</td>\n",
       "      <td>123</td>\n",
       "      <td>0.07</td>\n",
       "      <td>0</td>\n",
       "      <td>255</td>\n",
       "      <td>0.05</td>\n",
       "      <td>0.00</td>\n",
       "      <td>0.00</td>\n",
       "      <td>0</td>\n",
       "      <td>0</td>\n",
       "      <td>19</td>\n",
       "      <td>0</td>\n",
       "      <td>0</td>\n",
       "      <td>6</td>\n",
       "      <td>0.00</td>\n",
       "      <td>1</td>\n",
       "    </tr>\n",
       "    <tr>\n",
       "      <td>2</td>\n",
       "      <td>5</td>\n",
       "      <td>0.00</td>\n",
       "      <td>8153</td>\n",
       "      <td>30</td>\n",
       "      <td>0.00</td>\n",
       "      <td>0.03</td>\n",
       "      <td>0.04</td>\n",
       "      <td>0</td>\n",
       "      <td>0</td>\n",
       "      <td>21</td>\n",
       "      <td>1</td>\n",
       "      <td>0</td>\n",
       "      <td>5</td>\n",
       "      <td>0.00</td>\n",
       "      <td>0</td>\n",
       "    </tr>\n",
       "    <tr>\n",
       "      <td>3</td>\n",
       "      <td>30</td>\n",
       "      <td>0.00</td>\n",
       "      <td>420</td>\n",
       "      <td>255</td>\n",
       "      <td>0.00</td>\n",
       "      <td>0.00</td>\n",
       "      <td>0.00</td>\n",
       "      <td>0</td>\n",
       "      <td>0</td>\n",
       "      <td>21</td>\n",
       "      <td>1</td>\n",
       "      <td>0</td>\n",
       "      <td>32</td>\n",
       "      <td>0.09</td>\n",
       "      <td>0</td>\n",
       "    </tr>\n",
       "    <tr>\n",
       "      <td>4</td>\n",
       "      <td>121</td>\n",
       "      <td>0.06</td>\n",
       "      <td>0</td>\n",
       "      <td>255</td>\n",
       "      <td>0.07</td>\n",
       "      <td>0.00</td>\n",
       "      <td>0.00</td>\n",
       "      <td>0</td>\n",
       "      <td>0</td>\n",
       "      <td>21</td>\n",
       "      <td>0</td>\n",
       "      <td>0</td>\n",
       "      <td>19</td>\n",
       "      <td>0.00</td>\n",
       "      <td>1</td>\n",
       "    </tr>\n",
       "  </tbody>\n",
       "</table>\n",
       "</div>"
      ],
      "text/plain": [
       "   count  diff_srv_rate  dst_bytes  dst_host_count  dst_host_diff_srv_rate  \\\n",
       "0     13           0.15          0             255                    0.60   \n",
       "1    123           0.07          0             255                    0.05   \n",
       "2      5           0.00       8153              30                    0.00   \n",
       "3     30           0.00        420             255                    0.00   \n",
       "4    121           0.06          0             255                    0.07   \n",
       "\n",
       "   dst_host_same_src_port_rate  dst_host_srv_diff_host_rate  duration  hot  \\\n",
       "0                         0.88                         0.00         0    0   \n",
       "1                         0.00                         0.00         0    0   \n",
       "2                         0.03                         0.04         0    0   \n",
       "3                         0.00                         0.00         0    0   \n",
       "4                         0.00                         0.00         0    0   \n",
       "\n",
       "   last_flag  logged_in  num_compromised  srv_count  srv_diff_host_rate  \\\n",
       "0         15          0                0          1                0.00   \n",
       "1         19          0                0          6                0.00   \n",
       "2         21          1                0          5                0.00   \n",
       "3         21          1                0         32                0.09   \n",
       "4         21          0                0         19                0.00   \n",
       "\n",
       "   attack_class  \n",
       "0             0  \n",
       "1             1  \n",
       "2             0  \n",
       "3             0  \n",
       "4             1  "
      ]
     },
     "execution_count": 53,
     "metadata": {},
     "output_type": "execute_result"
    }
   ],
   "source": [
    "df.head()"
   ]
  },
  {
   "cell_type": "code",
   "execution_count": 54,
   "metadata": {},
   "outputs": [],
   "source": [
    "\n",
    "\n",
    "def DecisionTree():\n",
    "\n",
    "   import joblib\n",
    "\n",
    "   terms = [[count1.get(), diff_srv_rate1.get(), dst_bytes1.get(), dst_host_count1.get(), dst_host_diff_srv_rate1.get(),\n",
    "             dst_host_same_src_port_rate1.get(), dst_host_srv_diff_host_rate1.get(), duration1.get(), hot1.get(), \n",
    "             last_flag1.get(), logged_in1.get(), num_compromised1.get(), srv_count1.get(), srv_diff_host_rate1.get()]]\n",
    "  \n",
    "   #load the logistic regression pickle file\n",
    "   classifier = joblib.load('final_models/dt_final.pkl')\n",
    "   #checking and predicting\n",
    "   #checkprediction = inputScript.main(url)\n",
    "   prediction = classifier.predict(terms)\n",
    "   print(prediction)\n",
    "   predicted=prediction[0]\n",
    "   \n",
    "       \n",
    "   dis='Normal'\n",
    "   if predicted==1:\n",
    "       dis='Attack' \n",
    "   t1.delete(\"1.0\", END)\n",
    "   t1.insert(END, dis)\n",
    "\n",
    "   \n",
    "   "
   ]
  },
  {
   "cell_type": "code",
   "execution_count": 55,
   "metadata": {},
   "outputs": [],
   "source": [
    "\n",
    "def logisticregression():\n",
    "    print('in lr')\n",
    "    import joblib\n",
    "    terms = [[count1.get(), diff_srv_rate1.get(), dst_bytes1.get(), dst_host_count1.get(), dst_host_diff_srv_rate1.get(),\n",
    "             dst_host_same_src_port_rate1.get(), dst_host_srv_diff_host_rate1.get(), duration1.get(), hot1.get(), \n",
    "             last_flag1.get(), logged_in1.get(), num_compromised1.get(), srv_count1.get(), srv_diff_host_rate1.get()]]\n",
    "   \n",
    "    #load the logistic regression pickle file\n",
    "    classifier = joblib.load('final_models/lr.pkl')\n",
    "    #checking and predicting\n",
    "    #checkprediction = inputScript.main(url)\n",
    "    prediction = classifier.predict(terms)\n",
    "    print(prediction)\n",
    "    predicted=prediction[0]\n",
    "    t3.delete(\"1.0\", END)\n",
    "    \n",
    "    \n",
    "    dis='Normal'\n",
    "    if predicted==1:\n",
    "        dis='Attack'\n",
    "    \n",
    "    t3.insert(END, dis)\n",
    "    \n",
    "    \n"
   ]
  },
  {
   "cell_type": "code",
   "execution_count": 56,
   "metadata": {},
   "outputs": [],
   "source": [
    "\n",
    "def SVC():\n",
    "    import joblib\n",
    "    \n",
    "    terms = [[count1.get(), diff_srv_rate1.get(), dst_bytes1.get(), dst_host_count1.get(), dst_host_diff_srv_rate1.get(),\n",
    "             dst_host_same_src_port_rate1.get(), dst_host_srv_diff_host_rate1.get(), duration1.get(), hot1.get(), \n",
    "             last_flag1.get(), logged_in1.get(), num_compromised1.get(), srv_count1.get(), srv_diff_host_rate1.get()]]\n",
    "    \n",
    "   \n",
    "\n",
    "    #load the logistic SVC pickle file\n",
    "    classifier = joblib.load('final_models/svm_final.pkl')\n",
    "    #checking and predicting\n",
    "    #checkprediction = inputScript.main(url)\n",
    "    prediction = classifier.predict(terms)\n",
    "    print(prediction)\n",
    "    predicted=prediction[0]\n",
    "    \n",
    "      \n",
    "    dis='Normal'\n",
    "    if predicted==1:\n",
    "        dis='Attack'\n",
    "\n",
    "    t4.delete(\"1.0\", END)\n",
    "    t4.insert(END, dis)\n"
   ]
  },
  {
   "cell_type": "code",
   "execution_count": 57,
   "metadata": {},
   "outputs": [],
   "source": [
    "root = Tk()\n",
    "root.title(\"Network Attack Prediction\")\n",
    "#root.configure(background='black')\n",
    "canvas = Canvas(root,width=1880,height=1253)\n",
    "canvas.pack()\n",
    "#photo = PhotoImage(file ='nwattack.png')\n",
    "#canvas.create_image(0,0,image=photo,anchor=NW)\n",
    "\n",
    "\n",
    "# entry variables\n",
    "\n",
    "count1 = IntVar()\n",
    "diff_srv_rate1 = IntVar()\n",
    "dst_bytes1 = IntVar()\n",
    "dst_host_count1 = IntVar()\n",
    "dst_host_diff_srv_rate1 = IntVar()\n",
    "dst_host_same_src_port_rate1 = IntVar()\n",
    "dst_host_srv_diff_host_rate1 = IntVar()\n",
    "duration1 = IntVar()\n",
    "hot1 = IntVar()\n",
    "last_flag1 = IntVar()\n",
    "logged_in1 = IntVar()\n",
    "num_compromised1 = IntVar()\n",
    "srv_count1 = IntVar()\n",
    "srv_diff_host_rate1 = IntVar()\n",
    "\n",
    "# Heading\n",
    "w2 = Label(canvas, justify=LEFT, text=\"Network Attack Prediction using Machine Learning\", fg=\"white\", bg=\"red\")\n",
    "w2.config(font=(\"Elephant\", 20))\n",
    "w2.grid(row=1, column=0, columnspan=2, padx=100)\n",
    "w2 = Label(canvas, justify=LEFT, text=\"CYBER SECURITY\", fg=\"green\")\n",
    "w2.config(font=(\"Times Roman\", 15))\n",
    "w2.grid(row=2, column=0, columnspan=2, padx=100)\n",
    "\n",
    "\n",
    "# labels\n",
    "lb1 = Label(canvas, height=1, width=30, text=\"count\",fg=\"yellow\", bg=\"black\")\n",
    "lb1.grid(row=5, column=0, pady=15, sticky=W)\n",
    "mn1 = OptionMenu(canvas, count1,*OPTIONS1)\n",
    "mn1.grid(row=5, column=0)\n",
    "\n",
    "lb2 = Label(canvas, height=1, width=30, text=\"diff_srv_rate\",fg=\"yellow\", bg=\"black\")\n",
    "lb2.grid(row=5, column=1, pady=15, sticky=W)\n",
    "mn2 = OptionMenu(canvas, diff_srv_rate1,*OPTIONS2)\n",
    "mn2.grid(row=5, column=1)\n",
    "\n",
    "lb3 = Label(canvas, height=1, width=30, text=\"dst_bytes\",fg=\"yellow\", bg=\"black\")\n",
    "lb3.grid(row=6, column=0, pady=15, sticky=W)\n",
    "mn3 = Entry(canvas,textvariable = dst_bytes1)\n",
    "mn3.grid(row=6, column=0)\n",
    "\n",
    "\n",
    "lb4 = Label(canvas, height=1, width=30, text=\"dst_host_count\",fg=\"yellow\", bg=\"black\")\n",
    "lb4.grid(row=6, column=1, pady=15, sticky=W)\n",
    "mn4 = OptionMenu(canvas, dst_host_count1,*OPTIONS4)\n",
    "mn4.grid(row=6, column=1)\n",
    "\n",
    "lb5 = Label(canvas, height=1, width=30, text=\"dst_host_diff_srv_rate\",fg=\"yellow\", bg=\"black\")\n",
    "lb5.grid(row=7, column=0, pady=15, sticky=W)\n",
    "mn5 = OptionMenu(canvas, dst_host_diff_srv_rate1,*OPTIONS5)\n",
    "mn5.grid(row=7, column=0)\n",
    "\n",
    "lb6 = Label(canvas, height=1, width=30, text=\"dst_host_same_src_port_rate\",fg=\"yellow\", bg=\"black\")\n",
    "lb6.grid(row=7, column=1, pady=15, sticky=W)\n",
    "mn6 = OptionMenu(canvas, dst_host_same_src_port_rate1,*OPTIONS6)\n",
    "mn6.grid(row=7, column=1)\n",
    "\n",
    "lb7 = Label(canvas, height=1, width=30,text=\"dst_host_srv_diff_host_rate\",fg=\"yellow\", bg=\"black\")\n",
    "lb7.grid(row=8, column=0, pady=15, sticky=W)\n",
    "mn7 = OptionMenu(canvas, dst_host_srv_diff_host_rate1,*OPTIONS7)\n",
    "mn7.grid(row=8, column=0)\n",
    "\n",
    "lb8 = Label(canvas, height=1, width=30, text=\"duration\",fg=\"yellow\", bg=\"black\")\n",
    "lb8.grid(row=8, column=1, pady=15, sticky=W)\n",
    "mn8 = Entry(canvas, textvariable=duration1)\n",
    "mn8.grid(row=8, column=1)\n",
    "\n",
    "lb9 = Label(canvas, height=1, width=30, text=\"Hot\",fg=\"yellow\", bg=\"black\")\n",
    "lb9.grid(row=9, column=0, pady=15, sticky=W)\n",
    "mn9 = OptionMenu(canvas, hot1,*OPTIONS9)\n",
    "mn9.grid(row=9, column=0)\n",
    "\n",
    "lb10 = Label(canvas, height=1, width=30, text=\"last_flag\",fg=\"yellow\", bg=\"black\")\n",
    "lb10.grid(row=9, column=1, pady=15, sticky=W)\n",
    "mn10 = OptionMenu(canvas, last_flag1,*OPTIONS10)\n",
    "mn10.grid(row=9, column=1)\n",
    "\n",
    "lb11 = Label(canvas, height=1, width=30, text=\"logged_in\",fg=\"yellow\", bg=\"black\")\n",
    "lb11.grid(row=10, column=0, pady=15, sticky=W)\n",
    "mn11 = OptionMenu(canvas, logged_in1,*OPTIONS11)\n",
    "mn11.grid(row=10, column=0)\n",
    "\n",
    "lb12 = Label(canvas, height=1, width=30, text=\"num_compromised\",fg=\"yellow\", bg=\"black\")\n",
    "lb12.grid(row=10, column=1, pady=15, sticky=W)\n",
    "mn12 = OptionMenu(canvas, num_compromised1,*OPTIONS12)\n",
    "mn12.grid(row=10, column=1)\n",
    "\n",
    "lb13 = Label(canvas, height=1, width=30, text=\"srv_count\",fg=\"yellow\", bg=\"black\")\n",
    "lb13.grid(row=11, column=0, pady=15, sticky=W)\n",
    "mn13 = OptionMenu(canvas, srv_count1,*OPTIONS13)\n",
    "mn13.grid(row=11, column=0)\n",
    "\n",
    "lb14 = Label(canvas, height=1, width=30, text=\"srv_diff_host_rate\",fg=\"yellow\", bg=\"black\")\n",
    "lb14.grid(row=11, column=1, pady=15, sticky=W)\n",
    "mn14 = OptionMenu(canvas, srv_diff_host_rate1,*OPTIONS14)\n",
    "mn14.grid(row=11, column=1)\n",
    "\n"
   ]
  },
  {
   "cell_type": "code",
   "execution_count": 58,
   "metadata": {},
   "outputs": [],
   "source": [
    "\n",
    "\n",
    "destreeLb = Label(canvas, text=\"DecisionTree\", fg=\"white\", bg=\"red\")\n",
    "destreeLb.grid(row=15, column=0, pady=10,sticky=W)\n",
    "\n",
    "\n",
    "lrLb = Label(canvas, text=\"LogisticRegression\", fg=\"white\", bg=\"red\")\n",
    "lrLb.grid(row=16, column=0, pady=10, sticky=W)\n",
    "\n",
    "\n",
    "\n",
    "svLb = Label(canvas, text=\"SVC\", fg=\"white\", bg=\"red\")\n",
    "svLb.grid(row=17, column=0, pady=10, sticky=W)"
   ]
  },
  {
   "cell_type": "code",
   "execution_count": 59,
   "metadata": {},
   "outputs": [],
   "source": [
    "\n",
    "dst = Button(canvas, text=\"DecisionTree Algorithm\", command=DecisionTree,bg=\"cyan\",fg=\"green\")\n",
    "dst.grid(row=15, column=1,padx=10)\n",
    "\n",
    "\n",
    "lr = Button(canvas, text=\"LogisticRegression Algorithm\", command=logisticregression,bg=\"cyan\",fg=\"green\")\n",
    "lr.grid(row=16, column=1,padx=10)\n",
    "\n",
    "\n",
    "\n",
    "sv = Button(canvas, text=\"SVC Algorithm\", command=SVC,bg=\"cyan\",fg=\"green\")\n",
    "sv.grid(row=17, column=1,padx=10)"
   ]
  },
  {
   "cell_type": "code",
   "execution_count": 60,
   "metadata": {},
   "outputs": [
    {
     "name": "stdout",
     "output_type": "stream",
     "text": [
      "[1]\n",
      "in lr\n",
      "[1]\n",
      "[0]\n"
     ]
    }
   ],
   "source": [
    "\n",
    "#textfileds\n",
    "t1 = Text(canvas, height=1, width=40,bg=\"orange\",fg=\"black\")\n",
    "t1.grid(row=15, column=0, padx=10)\n",
    "\n",
    "\n",
    "t3 = Text(canvas, height=1, width=40,bg=\"orange\",fg=\"black\")\n",
    "t3.grid(row=16, column=0 , padx=10)\n",
    "\n",
    "\n",
    "t4 = Text(canvas, height=1, width=40,bg=\"orange\",fg=\"black\")\n",
    "t4.grid(row=17, column=0 , padx=10)\n",
    "\n",
    "root.mainloop()"
   ]
  },
  {
   "cell_type": "code",
   "execution_count": null,
   "metadata": {},
   "outputs": [],
   "source": []
  },
  {
   "cell_type": "code",
   "execution_count": null,
   "metadata": {},
   "outputs": [],
   "source": []
  },
  {
   "cell_type": "code",
   "execution_count": null,
   "metadata": {},
   "outputs": [],
   "source": []
  },
  {
   "cell_type": "code",
   "execution_count": null,
   "metadata": {},
   "outputs": [],
   "source": []
  }
 ],
 "metadata": {
  "kernelspec": {
   "display_name": "Python 3",
   "language": "python",
   "name": "python3"
  },
  "language_info": {
   "codemirror_mode": {
    "name": "ipython",
    "version": 3
   },
   "file_extension": ".py",
   "mimetype": "text/x-python",
   "name": "python",
   "nbconvert_exporter": "python",
   "pygments_lexer": "ipython3",
   "version": "3.7.4"
  }
 },
 "nbformat": 4,
 "nbformat_minor": 4
}
